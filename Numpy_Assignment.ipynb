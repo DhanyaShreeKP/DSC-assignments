{
  "nbformat": 4,
  "nbformat_minor": 0,
  "metadata": {
    "kernelspec": {
      "display_name": "Python 3",
      "language": "python",
      "name": "python3"
    },
    "language_info": {
      "codemirror_mode": {
        "name": "ipython",
        "version": 3
      },
      "file_extension": ".py",
      "mimetype": "text/x-python",
      "name": "python",
      "nbconvert_exporter": "python",
      "pygments_lexer": "ipython3",
      "version": "3.6.9"
    },
    "colab": {
      "name": "Numpy_Assignment.ipynb",
      "provenance": [],
      "include_colab_link": true
    }
  },
  "cells": [
    {
      "cell_type": "markdown",
      "metadata": {
        "id": "view-in-github",
        "colab_type": "text"
      },
      "source": [
        "<a href=\"https://colab.research.google.com/github/DhanyaShreeKP/DSC-assignments/blob/master/Numpy_Assignment.ipynb\" target=\"_parent\"><img src=\"https://colab.research.google.com/assets/colab-badge.svg\" alt=\"Open In Colab\"/></a>"
      ]
    },
    {
      "cell_type": "markdown",
      "metadata": {
        "id": "tUJIpGfXRI2Q"
      },
      "source": [
        "# Numpy assignment\n",
        "- Different tasks will be detailed by comments or text.\n",
        "- For further reference and resources, it's advised to check out the NumPy documentation."
      ]
    },
    {
      "cell_type": "code",
      "metadata": {
        "id": "1hSCXdD1RI2S"
      },
      "source": [
        "# Import NumPy as its abbreviation 'np'\n",
        "import numpy as np\n"
      ],
      "execution_count": null,
      "outputs": []
    },
    {
      "cell_type": "code",
      "metadata": {
        "id": "ZZKFdXzzRI2X",
        "outputId": "218469d0-be34-47f6-83cb-4d82d199a2aa",
        "colab": {
          "base_uri": "https://localhost:8080/",
          "height": 68
        }
      },
      "source": [
        "# Create a 1-dimensional NumPy array using np.array()\n",
        "a=np.array([1,3,4,5])\n",
        "print(a)\n",
        "\n",
        "\n",
        "# Create a 2-dimensional NumPy array using np.array()\n",
        "b = np.array([[1,2,3,4],[5,6,7,8]])\n",
        "print(b)\n",
        "  "
      ],
      "execution_count": null,
      "outputs": [
        {
          "output_type": "stream",
          "text": [
            "[1 3 4 5]\n",
            "[[1 2 3 4]\n",
            " [5 6 7 8]]\n"
          ],
          "name": "stdout"
        }
      ]
    },
    {
      "cell_type": "code",
      "metadata": {
        "id": "-qnPJrToRI2b",
        "outputId": "030ff3a9-cf77-43e2-c008-204f44d75a94",
        "colab": {
          "base_uri": "https://localhost:8080/",
          "height": 34
        }
      },
      "source": [
        "# Attributes of 1-dimensional array (shape, number of dimensions, data type, size and type)\n",
        "a.shape,a.ndim,a.dtype,a.itemsize\n",
        "\n"
      ],
      "execution_count": null,
      "outputs": [
        {
          "output_type": "execute_result",
          "data": {
            "text/plain": [
              "((4,), 1, dtype('int64'), 8)"
            ]
          },
          "metadata": {
            "tags": []
          },
          "execution_count": 28
        }
      ]
    },
    {
      "cell_type": "code",
      "metadata": {
        "id": "QFWo493_RI2j",
        "outputId": "69d1c74a-ac62-461b-f050-c8889857536b",
        "colab": {
          "base_uri": "https://localhost:8080/",
          "height": 34
        }
      },
      "source": [
        "# Attributes of 2-dimensional array\n",
        "b.shape,b.ndim,b.dtype,b.itemsize"
      ],
      "execution_count": null,
      "outputs": [
        {
          "output_type": "execute_result",
          "data": {
            "text/plain": [
              "((2, 4), 2, dtype('int64'), 8)"
            ]
          },
          "metadata": {
            "tags": []
          },
          "execution_count": 29
        }
      ]
    },
    {
      "cell_type": "code",
      "metadata": {
        "id": "mou1PhrGRI2n",
        "outputId": "5bac395b-d7a5-4125-a503-5977fb057af0",
        "colab": {
          "base_uri": "https://localhost:8080/",
          "height": 102
        }
      },
      "source": [
        "# Create an array of shape (5, 5) with only ones\n",
        "np.ones((5,5))\n"
      ],
      "execution_count": null,
      "outputs": [
        {
          "output_type": "execute_result",
          "data": {
            "text/plain": [
              "array([[1., 1., 1., 1., 1.],\n",
              "       [1., 1., 1., 1., 1.],\n",
              "       [1., 1., 1., 1., 1.],\n",
              "       [1., 1., 1., 1., 1.],\n",
              "       [1., 1., 1., 1., 1.]])"
            ]
          },
          "metadata": {
            "tags": []
          },
          "execution_count": 30
        }
      ]
    },
    {
      "cell_type": "code",
      "metadata": {
        "id": "d2YgruwXRI2r",
        "outputId": "f3aa8f9a-76fa-4c5b-cbe1-980bbfe00f8a",
        "colab": {
          "base_uri": "https://localhost:8080/",
          "height": 204
        }
      },
      "source": [
        "# Create an array of shape (3, 3, 5) with only zeros\n",
        "np.zeros((3,3,5))"
      ],
      "execution_count": null,
      "outputs": [
        {
          "output_type": "execute_result",
          "data": {
            "text/plain": [
              "array([[[0., 0., 0., 0., 0.],\n",
              "        [0., 0., 0., 0., 0.],\n",
              "        [0., 0., 0., 0., 0.]],\n",
              "\n",
              "       [[0., 0., 0., 0., 0.],\n",
              "        [0., 0., 0., 0., 0.],\n",
              "        [0., 0., 0., 0., 0.]],\n",
              "\n",
              "       [[0., 0., 0., 0., 0.],\n",
              "        [0., 0., 0., 0., 0.],\n",
              "        [0., 0., 0., 0., 0.]]])"
            ]
          },
          "metadata": {
            "tags": []
          },
          "execution_count": 31
        }
      ]
    },
    {
      "cell_type": "code",
      "metadata": {
        "id": "LjJrS0HfRI2x",
        "outputId": "a634eb5a-b19b-4490-ca90-a9e99f53d1e6",
        "colab": {
          "base_uri": "https://localhost:8080/",
          "height": 136
        }
      },
      "source": [
        "# Create a random array with numbers between 0 and 10 of size (7, 2)\n",
        "np.random.randint(10,size=((7,2)))\n"
      ],
      "execution_count": null,
      "outputs": [
        {
          "output_type": "execute_result",
          "data": {
            "text/plain": [
              "array([[6, 9],\n",
              "       [7, 5],\n",
              "       [7, 1],\n",
              "       [7, 8],\n",
              "       [0, 5],\n",
              "       [2, 4],\n",
              "       [7, 0]])"
            ]
          },
          "metadata": {
            "tags": []
          },
          "execution_count": 32
        }
      ]
    },
    {
      "cell_type": "code",
      "metadata": {
        "id": "FL6jeBCgRI22",
        "outputId": "821902b8-3da2-48a9-a3f9-0c45c00eb331",
        "colab": {
          "base_uri": "https://localhost:8080/",
          "height": 68
        }
      },
      "source": [
        "# Create a random array of floats between 0 & 1 of shape (3, 5)\n",
        "np.random.rand(3,5)\n"
      ],
      "execution_count": null,
      "outputs": [
        {
          "output_type": "execute_result",
          "data": {
            "text/plain": [
              "array([[0.40867729, 0.45955808, 0.6999661 , 0.28651065, 0.96490959],\n",
              "       [0.63964233, 0.70425534, 0.5000926 , 0.29133087, 0.0370179 ],\n",
              "       [0.65787417, 0.67757026, 0.38785791, 0.55824237, 0.19761049]])"
            ]
          },
          "metadata": {
            "tags": []
          },
          "execution_count": 33
        }
      ]
    },
    {
      "cell_type": "code",
      "metadata": {
        "id": "V8r7TsbNRI26",
        "outputId": "ee3011e8-a369-4f59-9936-7156dce436c1",
        "colab": {
          "base_uri": "https://localhost:8080/",
          "height": 102
        }
      },
      "source": [
        "# Create an array of normally distributed random numbers\n",
        "np.random.randint(99,size=((5,6)))"
      ],
      "execution_count": null,
      "outputs": [
        {
          "output_type": "execute_result",
          "data": {
            "text/plain": [
              "array([[82, 40, 64, 13, 50,  8],\n",
              "       [87, 12, 89, 86, 38, 78],\n",
              "       [20, 16, 29, 83, 61, 45],\n",
              "       [31, 15, 28, 27, 56, 47],\n",
              "       [27, 62, 26, 66,  7, 86]])"
            ]
          },
          "metadata": {
            "tags": []
          },
          "execution_count": 34
        }
      ]
    },
    {
      "cell_type": "code",
      "metadata": {
        "id": "0WsCV-OdRI29",
        "outputId": "0d92396f-3079-4862-c561-61f0ca1cab98",
        "colab": {
          "base_uri": "https://localhost:8080/",
          "height": 85
        }
      },
      "source": [
        "# Set the random seed to 42\n",
        "np.random.seed(42)\n",
        "\n",
        "# Create a random array of numbers between 0 & 10 of size (4, 6)\n",
        "c=np.random.randint(10,size=((4,6)))\n",
        "print(c)"
      ],
      "execution_count": null,
      "outputs": [
        {
          "output_type": "stream",
          "text": [
            "[[6 3 7 4 6 9]\n",
            " [2 6 7 4 3 7]\n",
            " [7 2 5 4 1 7]\n",
            " [5 1 4 0 9 5]]\n"
          ],
          "name": "stdout"
        }
      ]
    },
    {
      "cell_type": "code",
      "metadata": {
        "id": "TzJg3jRxRI3B",
        "outputId": "1f75af5d-56eb-4411-db4e-d480e5da2bca",
        "colab": {
          "base_uri": "https://localhost:8080/",
          "height": 85
        }
      },
      "source": [
        "# Copy the code from the cell above and run it again\n",
        "d=c\n",
        "print(d)"
      ],
      "execution_count": null,
      "outputs": [
        {
          "output_type": "stream",
          "text": [
            "[[6 3 7 4 6 9]\n",
            " [2 6 7 4 3 7]\n",
            " [7 2 5 4 1 7]\n",
            " [5 1 4 0 9 5]]\n"
          ],
          "name": "stdout"
        }
      ]
    },
    {
      "cell_type": "code",
      "metadata": {
        "id": "ONAZSKx3RI3E",
        "outputId": "f1130a84-a503-44e7-d29f-38850c9cc625",
        "colab": {
          "base_uri": "https://localhost:8080/",
          "height": 34
        }
      },
      "source": [
        "# Find the 0'th index of the latest array you created\n",
        "d[0,0]"
      ],
      "execution_count": null,
      "outputs": [
        {
          "output_type": "execute_result",
          "data": {
            "text/plain": [
              "6"
            ]
          },
          "metadata": {
            "tags": []
          },
          "execution_count": 37
        }
      ]
    },
    {
      "cell_type": "code",
      "metadata": {
        "id": "-ES5shijRI3I",
        "outputId": "74ef26c0-3e59-4c65-97be-431169069191",
        "colab": {
          "base_uri": "https://localhost:8080/",
          "height": 34
        }
      },
      "source": [
        "# Get the first 2 rows of latest array you created\n",
        "d[0,:],d[1,:]"
      ],
      "execution_count": null,
      "outputs": [
        {
          "output_type": "execute_result",
          "data": {
            "text/plain": [
              "(array([6, 3, 7, 4, 6, 9]), array([2, 6, 7, 4, 3, 7]))"
            ]
          },
          "metadata": {
            "tags": []
          },
          "execution_count": 38
        }
      ]
    },
    {
      "cell_type": "code",
      "metadata": {
        "id": "VSL8Jo-aRI3L",
        "outputId": "f7a5fbca-5771-49f2-e903-7013f144ee90",
        "colab": {
          "base_uri": "https://localhost:8080/",
          "height": 34
        }
      },
      "source": [
        "# Get the first 2 values of the first 2 rows of the latest array\n",
        "d[0,:2],d[1,:2]"
      ],
      "execution_count": null,
      "outputs": [
        {
          "output_type": "execute_result",
          "data": {
            "text/plain": [
              "(array([6, 3]), array([2, 6]))"
            ]
          },
          "metadata": {
            "tags": []
          },
          "execution_count": 39
        }
      ]
    },
    {
      "cell_type": "code",
      "metadata": {
        "id": "MTO5eIv8RI3S",
        "outputId": "73d4698d-336c-48ac-f1fd-e3eb127dfe26",
        "colab": {
          "base_uri": "https://localhost:8080/",
          "height": 119
        }
      },
      "source": [
        "# Create a random array of numbers between 0 & 10 and an array of ones both of size (3, 5), save them both to variables\n",
        "g=np.random.randint(10,size=(3,5))\n",
        "print(g)\n",
        "h=np.ones((3,5))\n",
        "print(h)"
      ],
      "execution_count": null,
      "outputs": [
        {
          "output_type": "stream",
          "text": [
            "[[8 0 9 2 6]\n",
            " [3 8 2 4 2]\n",
            " [6 4 8 6 1]]\n",
            "[[1. 1. 1. 1. 1.]\n",
            " [1. 1. 1. 1. 1.]\n",
            " [1. 1. 1. 1. 1.]]\n"
          ],
          "name": "stdout"
        }
      ]
    },
    {
      "cell_type": "code",
      "metadata": {
        "id": "bwcwSUFiRI3X",
        "outputId": "5757f6c9-3bb2-4685-e59c-8b847e0dd5e1",
        "colab": {
          "base_uri": "https://localhost:8080/",
          "height": 68
        }
      },
      "source": [
        "# Add the two arrays together\n",
        "g+h"
      ],
      "execution_count": null,
      "outputs": [
        {
          "output_type": "execute_result",
          "data": {
            "text/plain": [
              "array([[ 9.,  1., 10.,  3.,  7.],\n",
              "       [ 4.,  9.,  3.,  5.,  3.],\n",
              "       [ 7.,  5.,  9.,  7.,  2.]])"
            ]
          },
          "metadata": {
            "tags": []
          },
          "execution_count": 41
        }
      ]
    },
    {
      "cell_type": "code",
      "metadata": {
        "id": "y9B51VnLRI3a",
        "outputId": "36ab1682-afb8-486b-caae-2d524e8d0811",
        "colab": {
          "base_uri": "https://localhost:8080/",
          "height": 102
        }
      },
      "source": [
        "# Create another array of ones of shape (5, 3)\n",
        "i=np.ones((5,3))\n",
        "print(i)"
      ],
      "execution_count": null,
      "outputs": [
        {
          "output_type": "stream",
          "text": [
            "[[1. 1. 1.]\n",
            " [1. 1. 1.]\n",
            " [1. 1. 1.]\n",
            " [1. 1. 1.]\n",
            " [1. 1. 1.]]\n"
          ],
          "name": "stdout"
        }
      ]
    },
    {
      "cell_type": "code",
      "metadata": {
        "id": "wUdpX1azRI3e",
        "outputId": "045e0ce4-ac79-42cf-bbed-7f0d75c6be87",
        "colab": {
          "base_uri": "https://localhost:8080/",
          "height": 68
        }
      },
      "source": [
        "# Try add the array of ones and the other most recent array together # You can anticipate an error\n",
        "g+h"
      ],
      "execution_count": null,
      "outputs": [
        {
          "output_type": "execute_result",
          "data": {
            "text/plain": [
              "array([[ 9.,  1., 10.,  3.,  7.],\n",
              "       [ 4.,  9.,  3.,  5.,  3.],\n",
              "       [ 7.,  5.,  9.,  7.,  2.]])"
            ]
          },
          "metadata": {
            "tags": []
          },
          "execution_count": 43
        }
      ]
    },
    {
      "cell_type": "code",
      "metadata": {
        "id": "UE46lrsSRI3i",
        "outputId": "36e73e52-2cab-4603-f1b5-7d294b54dc05",
        "colab": {
          "base_uri": "https://localhost:8080/",
          "height": 68
        }
      },
      "source": [
        "# Do the same operation you just did but this time with a transpose on one array\n",
        "h.T\n",
        "j=g+h\n",
        "print(j)"
      ],
      "execution_count": null,
      "outputs": [
        {
          "output_type": "stream",
          "text": [
            "[[ 9.  1. 10.  3.  7.]\n",
            " [ 4.  9.  3.  5.  3.]\n",
            " [ 7.  5.  9.  7.  2.]]\n"
          ],
          "name": "stdout"
        }
      ]
    },
    {
      "cell_type": "code",
      "metadata": {
        "id": "q1nxSbxGRI3m",
        "outputId": "520174c6-6105-43d4-94f7-ee662b9877fc",
        "colab": {
          "base_uri": "https://localhost:8080/",
          "height": 68
        }
      },
      "source": [
        "# Take the latest array to the power of 2 using the python way\n",
        "import math\n",
        "pow((j),2)"
      ],
      "execution_count": null,
      "outputs": [
        {
          "output_type": "execute_result",
          "data": {
            "text/plain": [
              "array([[ 81.,   1., 100.,   9.,  49.],\n",
              "       [ 16.,  81.,   9.,  25.,   9.],\n",
              "       [ 49.,  25.,  81.,  49.,   4.]])"
            ]
          },
          "metadata": {
            "tags": []
          },
          "execution_count": 45
        }
      ]
    },
    {
      "cell_type": "code",
      "metadata": {
        "id": "E7IU4M-jRI3p",
        "outputId": "b46b90dd-9b64-47f8-dc49-99c7b78dc356",
        "colab": {
          "base_uri": "https://localhost:8080/",
          "height": 68
        }
      },
      "source": [
        "# Do the same thing with numpy way\n",
        "j ** 2"
      ],
      "execution_count": null,
      "outputs": [
        {
          "output_type": "execute_result",
          "data": {
            "text/plain": [
              "array([[ 81.,   1., 100.,   9.,  49.],\n",
              "       [ 16.,  81.,   9.,  25.,   9.],\n",
              "       [ 49.,  25.,  81.,  49.,   4.]])"
            ]
          },
          "metadata": {
            "tags": []
          },
          "execution_count": 46
        }
      ]
    },
    {
      "cell_type": "code",
      "metadata": {
        "id": "AfA5GWI4RI3s",
        "outputId": "96ee1d92-59b9-4938-aa0a-353983b02fde",
        "colab": {
          "base_uri": "https://localhost:8080/",
          "height": 34
        }
      },
      "source": [
        "# Find the mean, min, max, standard deviation, variance of the latest array using np.mean()\n",
        "np.mean(j),np.min(j),np.max(j),np.std(j),np.var(j)\n"
      ],
      "execution_count": null,
      "outputs": [
        {
          "output_type": "execute_result",
          "data": {
            "text/plain": [
              "(5.6, 1.0, 10.0, 2.8000000000000003, 7.840000000000002)"
            ]
          },
          "metadata": {
            "tags": []
          },
          "execution_count": 47
        }
      ]
    },
    {
      "cell_type": "code",
      "metadata": {
        "id": "cx2a1vTBRI3w"
      },
      "source": [
        "# Create two arrays of random integers between 0 to 10 one of size (3, 3) the other of size (3, 2)\n",
        "a1=np.random.randint(10,size=((3,3)))\n",
        "a2=np.random.randint(10,size=((3,2)))"
      ],
      "execution_count": null,
      "outputs": []
    },
    {
      "cell_type": "code",
      "metadata": {
        "id": "f5AewMieRI3z",
        "outputId": "2e440c70-18b6-4e73-bd10-396e29f61781",
        "colab": {
          "base_uri": "https://localhost:8080/",
          "height": 68
        }
      },
      "source": [
        "# Perform a dot product on the two newest arrays you created\n",
        "np.hstack([a1,a2])"
      ],
      "execution_count": null,
      "outputs": [
        {
          "output_type": "execute_result",
          "data": {
            "text/plain": [
              "array([[3, 8, 1, 6, 7],\n",
              "       [9, 8, 9, 2, 0],\n",
              "       [4, 1, 3, 3, 1]])"
            ]
          },
          "metadata": {
            "tags": []
          },
          "execution_count": 49
        }
      ]
    },
    {
      "cell_type": "code",
      "metadata": {
        "id": "6Xyu3xgjRI33"
      },
      "source": [
        "# Create two arrays of random integers between 0 to 10 both of size (4, 3)\n",
        "m=np.random.randint(10,size=((4,3)))\n",
        "n=np.random.randint(10,size=((4,3)))"
      ],
      "execution_count": null,
      "outputs": []
    },
    {
      "cell_type": "code",
      "metadata": {
        "id": "8OE3tN1QRI37",
        "outputId": "0a655b3a-c5b4-40a3-8252-7bf6d593352b",
        "colab": {
          "base_uri": "https://localhost:8080/",
          "height": 85
        }
      },
      "source": [
        "# Perform a hadamard product on the two newest arrays you created\n",
        "m*n"
      ],
      "execution_count": null,
      "outputs": [
        {
          "output_type": "execute_result",
          "data": {
            "text/plain": [
              "array([[21, 21,  6],\n",
              "       [40, 35, 36],\n",
              "       [ 3, 20,  7],\n",
              "       [81,  8, 72]])"
            ]
          },
          "metadata": {
            "tags": []
          },
          "execution_count": 51
        }
      ]
    },
    {
      "cell_type": "code",
      "metadata": {
        "id": "yhmoBaD-RI3_",
        "outputId": "d1702e09-be90-4552-e750-ffe007edb2bb",
        "colab": {
          "base_uri": "https://localhost:8080/",
          "height": 68
        }
      },
      "source": [
        "# Perform a dot product on the two newest arrays you created # Error anticipated\n",
        "np.dot(a1,a2)"
      ],
      "execution_count": null,
      "outputs": [
        {
          "output_type": "execute_result",
          "data": {
            "text/plain": [
              "array([[37, 22],\n",
              "       [97, 72],\n",
              "       [35, 31]])"
            ]
          },
          "metadata": {
            "tags": []
          },
          "execution_count": 52
        }
      ]
    },
    {
      "cell_type": "code",
      "metadata": {
        "id": "aovooyObRI4G",
        "outputId": "16278048-ebb1-443b-def3-b970856da50d",
        "colab": {
          "base_uri": "https://localhost:8080/",
          "height": 68
        }
      },
      "source": [
        "# Take the latest two arrays, perform a transpose on one of them and then perform a dot product on them both\n",
        "a1.T\n",
        "a2.T\n",
        "np.dot(a1,a2)"
      ],
      "execution_count": null,
      "outputs": [
        {
          "output_type": "execute_result",
          "data": {
            "text/plain": [
              "array([[37, 22],\n",
              "       [97, 72],\n",
              "       [35, 31]])"
            ]
          },
          "metadata": {
            "tags": []
          },
          "execution_count": 53
        }
      ]
    },
    {
      "cell_type": "code",
      "metadata": {
        "id": "NlC8PvPGRI4J",
        "outputId": "66be6fde-daa7-4d73-9395-4a70a00b3f3f",
        "colab": {
          "base_uri": "https://localhost:8080/",
          "height": 68
        }
      },
      "source": [
        "# Create two arrays of random integers between 0 & 10 of the same shape and save them to variables\n",
        "x=np.random.randint(10,size=((3,3)))\n",
        "y=np.random.randint(10,size=((3,3)))\n",
        "print(x)"
      ],
      "execution_count": null,
      "outputs": [
        {
          "output_type": "stream",
          "text": [
            "[[0 8 6]\n",
            " [8 7 0]\n",
            " [7 7 2]]\n"
          ],
          "name": "stdout"
        }
      ]
    },
    {
      "cell_type": "code",
      "metadata": {
        "id": "RF5MSuyHRI4P",
        "outputId": "00752bc6-1481-42cb-8a32-48cdb6e05774",
        "colab": {
          "base_uri": "https://localhost:8080/",
          "height": 136
        }
      },
      "source": [
        "# Compare the two arrays with '>', '<=' and '==' \n",
        "x>y,x<=y,x==y"
      ],
      "execution_count": null,
      "outputs": [
        {
          "output_type": "execute_result",
          "data": {
            "text/plain": [
              "(array([[False,  True,  True],\n",
              "        [ True,  True, False],\n",
              "        [False,  True, False]]), array([[ True, False, False],\n",
              "        [False, False,  True],\n",
              "        [ True, False,  True]]), array([[ True, False, False],\n",
              "        [False, False, False],\n",
              "        [False, False, False]]))"
            ]
          },
          "metadata": {
            "tags": []
          },
          "execution_count": 55
        }
      ]
    },
    {
      "cell_type": "code",
      "metadata": {
        "id": "YOagEuC1RI4T"
      },
      "source": [
        "# Sort one of the arrays you just created in ascending order\n"
      ],
      "execution_count": null,
      "outputs": []
    },
    {
      "cell_type": "code",
      "metadata": {
        "id": "LYJqXp5XRI4W",
        "outputId": "18fe41fb-c54f-406e-cd17-3e800144271a",
        "colab": {
          "base_uri": "https://localhost:8080/",
          "height": 34
        }
      },
      "source": [
        "# Sort the indexes of one of the arrays you just created\n",
        "np.argmax(x)"
      ],
      "execution_count": null,
      "outputs": [
        {
          "output_type": "execute_result",
          "data": {
            "text/plain": [
              "1"
            ]
          },
          "metadata": {
            "tags": []
          },
          "execution_count": 56
        }
      ]
    },
    {
      "cell_type": "code",
      "metadata": {
        "id": "WIJSMfqJRI4Z",
        "outputId": "2133f24c-5c09-41f7-ca59-609094244f9b",
        "colab": {
          "base_uri": "https://localhost:8080/",
          "height": 34
        }
      },
      "source": [
        "# Find the index with the maximum value in one of the arrays you've created\n",
        "np.argmax(x,axis=0)"
      ],
      "execution_count": null,
      "outputs": [
        {
          "output_type": "execute_result",
          "data": {
            "text/plain": [
              "array([1, 0, 0])"
            ]
          },
          "metadata": {
            "tags": []
          },
          "execution_count": 57
        }
      ]
    },
    {
      "cell_type": "code",
      "metadata": {
        "id": "8Edxo3NURI4c",
        "outputId": "db138901-fe31-4833-984b-d9b1f313bed8",
        "colab": {
          "base_uri": "https://localhost:8080/",
          "height": 102
        }
      },
      "source": [
        "# Create an array with 10 evenly spaced numbers between 1 and 100\n",
        "random_array=np.random.randint(10,size=(1,100))\n",
        "random_array"
      ],
      "execution_count": null,
      "outputs": [
        {
          "output_type": "execute_result",
          "data": {
            "text/plain": [
              "array([[8, 6, 8, 7, 1, 0, 6, 6, 7, 4, 2, 7, 5, 2, 0, 2, 4, 2, 0, 4, 9, 6,\n",
              "        6, 8, 9, 9, 2, 6, 0, 3, 3, 4, 6, 6, 3, 6, 2, 5, 1, 9, 8, 4, 5, 3,\n",
              "        9, 6, 8, 6, 0, 0, 8, 8, 3, 8, 2, 6, 5, 7, 8, 4, 0, 2, 9, 7, 5, 7,\n",
              "        8, 3, 0, 0, 9, 3, 6, 1, 2, 0, 4, 0, 7, 0, 0, 1, 1, 5, 6, 4, 0, 0,\n",
              "        2, 1, 4, 9, 5, 6, 3, 6, 7, 0, 5, 7]])"
            ]
          },
          "metadata": {
            "tags": []
          },
          "execution_count": 58
        }
      ]
    },
    {
      "cell_type": "code",
      "metadata": {
        "id": "3jnHmAnQRI4f",
        "outputId": "7ed5741c-7f03-465b-e7dd-2944818ca87a",
        "colab": {
          "base_uri": "https://localhost:8080/",
          "height": 34
        }
      },
      "source": [
        "# Find the indexes with the maximum values down the verticial axis of one of the arrays you created\n",
        "np.argmax(random_array)"
      ],
      "execution_count": null,
      "outputs": [
        {
          "output_type": "execute_result",
          "data": {
            "text/plain": [
              "20"
            ]
          },
          "metadata": {
            "tags": []
          },
          "execution_count": 59
        }
      ]
    },
    {
      "cell_type": "code",
      "metadata": {
        "id": "PoCJQkw6RI4i",
        "outputId": "9be6cd2e-f608-4975-c00a-6816cbb5e569",
        "colab": {
          "base_uri": "https://localhost:8080/",
          "height": 34
        }
      },
      "source": [
        "# Find the indexes with the minimum values across the horizontal axis of one of the arrays you created\n",
        "np.argmin(random_array)"
      ],
      "execution_count": null,
      "outputs": [
        {
          "output_type": "execute_result",
          "data": {
            "text/plain": [
              "5"
            ]
          },
          "metadata": {
            "tags": []
          },
          "execution_count": 60
        }
      ]
    }
  ]
}