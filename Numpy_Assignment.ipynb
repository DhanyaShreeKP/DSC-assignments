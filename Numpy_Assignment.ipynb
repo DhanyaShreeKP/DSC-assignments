{
  "nbformat": 4,
  "nbformat_minor": 0,
  "metadata": {
    "kernelspec": {
      "display_name": "Python 3",
      "language": "python",
      "name": "python3"
    },
    "language_info": {
      "codemirror_mode": {
        "name": "ipython",
        "version": 3
      },
      "file_extension": ".py",
      "mimetype": "text/x-python",
      "name": "python",
      "nbconvert_exporter": "python",
      "pygments_lexer": "ipython3",
      "version": "3.6.9"
    },
    "colab": {
      "name": "Numpy_Assignment.ipynb",
      "provenance": [],
      "include_colab_link": true
    }
  },
  "cells": [
    {
      "cell_type": "markdown",
      "metadata": {
        "id": "view-in-github",
        "colab_type": "text"
      },
      "source": [
        "<a href=\"https://colab.research.google.com/github/DhanyaShreeKP/DSC-assignments/blob/master/Numpy_Assignment.ipynb\" target=\"_parent\"><img src=\"https://colab.research.google.com/assets/colab-badge.svg\" alt=\"Open In Colab\"/></a>"
      ]
    },
    {
      "cell_type": "markdown",
      "metadata": {
        "id": "tUJIpGfXRI2Q"
      },
      "source": [
        "# Numpy assignment\n",
        "- Different tasks will be detailed by comments or text.\n",
        "- For further reference and resources, it's advised to check out the NumPy documentation."
      ]
    },
    {
      "cell_type": "code",
      "metadata": {
        "id": "1hSCXdD1RI2S"
      },
      "source": [
        "# Import NumPy as its abbreviation 'np'\n",
        "import numpy as np\n"
      ],
      "execution_count": null,
      "outputs": []
    },
    {
      "cell_type": "code",
      "metadata": {
        "id": "ZZKFdXzzRI2X",
        "outputId": "7674b0cf-9fcd-4632-8491-820e30a5e5fc",
        "colab": {
          "base_uri": "https://localhost:8080/",
          "height": 68
        }
      },
      "source": [
        "# Create a 1-dimensional NumPy array using np.array()\n",
        "a=np.array([1,3,4,5])\n",
        "print(a)\n",
        "\n",
        "\n",
        "# Create a 2-dimensional NumPy array using np.array()\n",
        "b = np.array([[1,2,3,4],[5,6,7,8]])\n",
        "print(b)\n",
        "  "
      ],
      "execution_count": null,
      "outputs": [
        {
          "output_type": "stream",
          "text": [
            "[1 3 4 5]\n",
            "[[1 2 3 4]\n",
            " [5 6 7 8]]\n"
          ],
          "name": "stdout"
        }
      ]
    },
    {
      "cell_type": "code",
      "metadata": {
        "id": "-qnPJrToRI2b",
        "outputId": "0a884d2c-15aa-4384-d4b6-bdcca60fb4b0",
        "colab": {
          "base_uri": "https://localhost:8080/",
          "height": 34
        }
      },
      "source": [
        "# Attributes of 1-dimensional array (shape, number of dimensions, data type, size and type)\n",
        "a.shape,a.ndim,a.dtype,a.itemsize\n",
        "\n"
      ],
      "execution_count": null,
      "outputs": [
        {
          "output_type": "execute_result",
          "data": {
            "text/plain": [
              "((4,), 1, dtype('int64'), 8)"
            ]
          },
          "metadata": {
            "tags": []
          },
          "execution_count": 7
        }
      ]
    },
    {
      "cell_type": "code",
      "metadata": {
        "id": "QFWo493_RI2j",
        "outputId": "89163bcb-65b9-4c42-8f0d-0da74ab6a083",
        "colab": {
          "base_uri": "https://localhost:8080/",
          "height": 34
        }
      },
      "source": [
        "# Attributes of 2-dimensional array\n",
        "b.shape,b.ndim,b.dtype,b.itemsize"
      ],
      "execution_count": null,
      "outputs": [
        {
          "output_type": "execute_result",
          "data": {
            "text/plain": [
              "((2, 4), 2, dtype('int64'), 8)"
            ]
          },
          "metadata": {
            "tags": []
          },
          "execution_count": 8
        }
      ]
    },
    {
      "cell_type": "code",
      "metadata": {
        "id": "mou1PhrGRI2n",
        "outputId": "fa8c8a66-3a35-48fb-9363-b82d3eedf083",
        "colab": {
          "base_uri": "https://localhost:8080/",
          "height": 102
        }
      },
      "source": [
        "# Create an array of shape (5, 5) with only ones\n",
        "np.ones((5,5))\n"
      ],
      "execution_count": null,
      "outputs": [
        {
          "output_type": "execute_result",
          "data": {
            "text/plain": [
              "array([[1., 1., 1., 1., 1.],\n",
              "       [1., 1., 1., 1., 1.],\n",
              "       [1., 1., 1., 1., 1.],\n",
              "       [1., 1., 1., 1., 1.],\n",
              "       [1., 1., 1., 1., 1.]])"
            ]
          },
          "metadata": {
            "tags": []
          },
          "execution_count": 14
        }
      ]
    },
    {
      "cell_type": "code",
      "metadata": {
        "id": "d2YgruwXRI2r",
        "outputId": "b7593fcd-91b2-49a6-f69d-21c3046151dc",
        "colab": {
          "base_uri": "https://localhost:8080/",
          "height": 204
        }
      },
      "source": [
        "# Create an array of shape (3, 3, 5) with only zeros\n",
        "np.zeros((3,3,5))"
      ],
      "execution_count": null,
      "outputs": [
        {
          "output_type": "execute_result",
          "data": {
            "text/plain": [
              "array([[[0., 0., 0., 0., 0.],\n",
              "        [0., 0., 0., 0., 0.],\n",
              "        [0., 0., 0., 0., 0.]],\n",
              "\n",
              "       [[0., 0., 0., 0., 0.],\n",
              "        [0., 0., 0., 0., 0.],\n",
              "        [0., 0., 0., 0., 0.]],\n",
              "\n",
              "       [[0., 0., 0., 0., 0.],\n",
              "        [0., 0., 0., 0., 0.],\n",
              "        [0., 0., 0., 0., 0.]]])"
            ]
          },
          "metadata": {
            "tags": []
          },
          "execution_count": 13
        }
      ]
    },
    {
      "cell_type": "code",
      "metadata": {
        "id": "LjJrS0HfRI2x",
        "outputId": "4b3491f3-d4c0-43ac-dd40-82e8c2099f62",
        "colab": {
          "base_uri": "https://localhost:8080/",
          "height": 136
        }
      },
      "source": [
        "# Create a random array with numbers between 0 and 10 of size (7, 2)\n",
        "np.random.randint(10,size=((7,2)))\n"
      ],
      "execution_count": null,
      "outputs": [
        {
          "output_type": "execute_result",
          "data": {
            "text/plain": [
              "array([[3, 6],\n",
              "       [0, 1],\n",
              "       [3, 3],\n",
              "       [8, 7],\n",
              "       [9, 9],\n",
              "       [2, 8],\n",
              "       [5, 9]])"
            ]
          },
          "metadata": {
            "tags": []
          },
          "execution_count": 16
        }
      ]
    },
    {
      "cell_type": "code",
      "metadata": {
        "id": "FL6jeBCgRI22",
        "outputId": "f2610ecd-5af4-42ed-8d71-4eb9306d3213",
        "colab": {
          "base_uri": "https://localhost:8080/",
          "height": 68
        }
      },
      "source": [
        "# Create a random array of floats between 0 & 1 of shape (3, 5)\n",
        "np.random.rand(3,5)\n"
      ],
      "execution_count": null,
      "outputs": [
        {
          "output_type": "execute_result",
          "data": {
            "text/plain": [
              "array([[0.67642119, 0.72020544, 0.61145069, 0.68766835, 0.78914481],\n",
              "       [0.76384706, 0.72455223, 0.38450784, 0.44636396, 0.73285977],\n",
              "       [0.60905578, 0.38751762, 0.33081484, 0.1039742 , 0.7277712 ]])"
            ]
          },
          "metadata": {
            "tags": []
          },
          "execution_count": 20
        }
      ]
    },
    {
      "cell_type": "code",
      "metadata": {
        "id": "V8r7TsbNRI26",
        "outputId": "b44fdf6b-9b90-43dd-bdad-9866e7beab84",
        "colab": {
          "base_uri": "https://localhost:8080/",
          "height": 102
        }
      },
      "source": [
        "# Create an array of normally distributed random numbers\n",
        "np.random.randint(99,size=((5,6)))"
      ],
      "execution_count": null,
      "outputs": [
        {
          "output_type": "execute_result",
          "data": {
            "text/plain": [
              "array([[82, 56, 56,  4, 63, 38],\n",
              "       [95, 93, 82, 40, 41, 73],\n",
              "       [86,  2, 68, 93,  0, 57],\n",
              "       [92, 29, 34, 83, 48, 57],\n",
              "       [54, 59, 12, 84, 22, 28]])"
            ]
          },
          "metadata": {
            "tags": []
          },
          "execution_count": 25
        }
      ]
    },
    {
      "cell_type": "code",
      "metadata": {
        "id": "0WsCV-OdRI29",
        "outputId": "7a8e2834-b06e-4ece-8dd1-7cd0d713a93b",
        "colab": {
          "base_uri": "https://localhost:8080/",
          "height": 85
        }
      },
      "source": [
        "# Set the random seed to 42\n",
        "np.random.seed(42)\n",
        "\n",
        "# Create a random array of numbers between 0 & 10 of size (4, 6)\n",
        "c=np.random.randint(10,size=((4,6)))\n",
        "print(c)"
      ],
      "execution_count": null,
      "outputs": [
        {
          "output_type": "stream",
          "text": [
            "[[6 3 7 4 6 9]\n",
            " [2 6 7 4 3 7]\n",
            " [7 2 5 4 1 7]\n",
            " [5 1 4 0 9 5]]\n"
          ],
          "name": "stdout"
        }
      ]
    },
    {
      "cell_type": "code",
      "metadata": {
        "id": "TzJg3jRxRI3B",
        "outputId": "863ada7c-ce44-4482-a024-3805f7731cd6",
        "colab": {
          "base_uri": "https://localhost:8080/",
          "height": 85
        }
      },
      "source": [
        "# Copy the code from the cell above and run it again\n",
        "d=c\n",
        "print(d)"
      ],
      "execution_count": null,
      "outputs": [
        {
          "output_type": "stream",
          "text": [
            "[[6 3 7 4 6 9]\n",
            " [2 6 7 4 3 7]\n",
            " [7 2 5 4 1 7]\n",
            " [5 1 4 0 9 5]]\n"
          ],
          "name": "stdout"
        }
      ]
    },
    {
      "cell_type": "code",
      "metadata": {
        "id": "ONAZSKx3RI3E",
        "outputId": "ca2a6806-e16f-4e11-d4e6-84f37bd138ef",
        "colab": {
          "base_uri": "https://localhost:8080/",
          "height": 34
        }
      },
      "source": [
        "# Find the 0'th index of the latest array you created\n",
        "d[0,0]"
      ],
      "execution_count": null,
      "outputs": [
        {
          "output_type": "execute_result",
          "data": {
            "text/plain": [
              "6"
            ]
          },
          "metadata": {
            "tags": []
          },
          "execution_count": 29
        }
      ]
    },
    {
      "cell_type": "code",
      "metadata": {
        "id": "-ES5shijRI3I",
        "outputId": "b9c67a2f-d63d-4e60-c507-b24463dc8f7b",
        "colab": {
          "base_uri": "https://localhost:8080/",
          "height": 34
        }
      },
      "source": [
        "# Get the first 2 rows of latest array you created\n",
        "d[0,:],d[1,:]"
      ],
      "execution_count": null,
      "outputs": [
        {
          "output_type": "execute_result",
          "data": {
            "text/plain": [
              "(array([6, 3, 7, 4, 6, 9]), array([2, 6, 7, 4, 3, 7]))"
            ]
          },
          "metadata": {
            "tags": []
          },
          "execution_count": 70
        }
      ]
    },
    {
      "cell_type": "code",
      "metadata": {
        "id": "VSL8Jo-aRI3L",
        "outputId": "18d563ca-bb88-4350-da2a-58715c58e424",
        "colab": {
          "base_uri": "https://localhost:8080/",
          "height": 34
        }
      },
      "source": [
        "# Get the first 2 values of the first 2 rows of the latest array\n",
        "d[0,:2],d[1,:2]"
      ],
      "execution_count": null,
      "outputs": [
        {
          "output_type": "execute_result",
          "data": {
            "text/plain": [
              "(array([6, 3]), array([2, 6]))"
            ]
          },
          "metadata": {
            "tags": []
          },
          "execution_count": 42
        }
      ]
    },
    {
      "cell_type": "code",
      "metadata": {
        "id": "MTO5eIv8RI3S",
        "outputId": "1d054c39-ca17-49e2-fab7-74d23121d2c8",
        "colab": {
          "base_uri": "https://localhost:8080/",
          "height": 119
        }
      },
      "source": [
        "# Create a random array of numbers between 0 & 10 and an array of ones both of size (3, 5), save them both to variables\n",
        "g=np.random.randint(25,size=(3,5))\n",
        "print(g)\n",
        "h=np.ones((3,5))\n",
        "print(h)"
      ],
      "execution_count": null,
      "outputs": [
        {
          "output_type": "stream",
          "text": [
            "[[11  7 14  2 13]\n",
            " [16  3 17  7  3]\n",
            " [ 1  5 21  9  3]]\n",
            "[[1. 1. 1. 1. 1.]\n",
            " [1. 1. 1. 1. 1.]\n",
            " [1. 1. 1. 1. 1.]]\n"
          ],
          "name": "stdout"
        }
      ]
    },
    {
      "cell_type": "code",
      "metadata": {
        "id": "bwcwSUFiRI3X",
        "outputId": "4e5af835-bcae-410b-cc61-8aa048ad6fbd",
        "colab": {
          "base_uri": "https://localhost:8080/",
          "height": 68
        }
      },
      "source": [
        "# Add the two arrays together\n",
        "g+h"
      ],
      "execution_count": null,
      "outputs": [
        {
          "output_type": "execute_result",
          "data": {
            "text/plain": [
              "array([[12.,  8., 15.,  3., 14.],\n",
              "       [17.,  4., 18.,  8.,  4.],\n",
              "       [ 2.,  6., 22., 10.,  4.]])"
            ]
          },
          "metadata": {
            "tags": []
          },
          "execution_count": 46
        }
      ]
    },
    {
      "cell_type": "code",
      "metadata": {
        "id": "y9B51VnLRI3a",
        "outputId": "20180887-d12b-484c-809c-b54e0c88035a",
        "colab": {
          "base_uri": "https://localhost:8080/",
          "height": 102
        }
      },
      "source": [
        "# Create another array of ones of shape (5, 3)\n",
        "i=np.ones((5,3))\n",
        "print(i)"
      ],
      "execution_count": null,
      "outputs": [
        {
          "output_type": "stream",
          "text": [
            "[[1. 1. 1.]\n",
            " [1. 1. 1.]\n",
            " [1. 1. 1.]\n",
            " [1. 1. 1.]\n",
            " [1. 1. 1.]]\n"
          ],
          "name": "stdout"
        }
      ]
    },
    {
      "cell_type": "code",
      "metadata": {
        "id": "wUdpX1azRI3e",
        "outputId": "423d5988-ca0d-4b99-c660-cc0a04eb46b3",
        "colab": {
          "base_uri": "https://localhost:8080/",
          "height": 68
        }
      },
      "source": [
        "# Try add the array of ones and the other most recent array together # You can anticipate an error\n",
        "g+h"
      ],
      "execution_count": null,
      "outputs": [
        {
          "output_type": "execute_result",
          "data": {
            "text/plain": [
              "array([[12.,  8., 15.,  3., 14.],\n",
              "       [17.,  4., 18.,  8.,  4.],\n",
              "       [ 2.,  6., 22., 10.,  4.]])"
            ]
          },
          "metadata": {
            "tags": []
          },
          "execution_count": 71
        }
      ]
    },
    {
      "cell_type": "code",
      "metadata": {
        "id": "UE46lrsSRI3i",
        "outputId": "625b6916-977d-4c3b-e041-5ff5e5da6b75",
        "colab": {
          "base_uri": "https://localhost:8080/",
          "height": 68
        }
      },
      "source": [
        "# Do the same operation you just did but this time with a transpose on one array\n",
        "h.T\n",
        "j=g+h\n",
        "print(j)"
      ],
      "execution_count": null,
      "outputs": [
        {
          "output_type": "stream",
          "text": [
            "[[12.  8. 15.  3. 14.]\n",
            " [17.  4. 18.  8.  4.]\n",
            " [ 2.  6. 22. 10.  4.]]\n"
          ],
          "name": "stdout"
        }
      ]
    },
    {
      "cell_type": "code",
      "metadata": {
        "id": "q1nxSbxGRI3m",
        "outputId": "a69d590a-9d8a-471c-b747-18c57d8d0863",
        "colab": {
          "base_uri": "https://localhost:8080/",
          "height": 119
        }
      },
      "source": [
        "# Take the latest array to the power of 2 using the python way\n",
        "np.exp(j)"
      ],
      "execution_count": null,
      "outputs": [
        {
          "output_type": "execute_result",
          "data": {
            "text/plain": [
              "array([[1.62754791e+05, 2.98095799e+03, 3.26901737e+06, 2.00855369e+01,\n",
              "        1.20260428e+06],\n",
              "       [2.41549528e+07, 5.45981500e+01, 6.56599691e+07, 2.98095799e+03,\n",
              "        5.45981500e+01],\n",
              "       [7.38905610e+00, 4.03428793e+02, 3.58491285e+09, 2.20264658e+04,\n",
              "        5.45981500e+01]])"
            ]
          },
          "metadata": {
            "tags": []
          },
          "execution_count": 74
        }
      ]
    },
    {
      "cell_type": "code",
      "metadata": {
        "id": "E7IU4M-jRI3p",
        "outputId": "3ab76ea1-6097-4f82-cdfa-9ad40d9cf81d",
        "colab": {
          "base_uri": "https://localhost:8080/",
          "height": 68
        }
      },
      "source": [
        "# Do the same thing with numpy way\n",
        "j ** 2"
      ],
      "execution_count": null,
      "outputs": [
        {
          "output_type": "execute_result",
          "data": {
            "text/plain": [
              "array([[144.,  64., 225.,   9., 196.],\n",
              "       [289.,  16., 324.,  64.,  16.],\n",
              "       [  4.,  36., 484., 100.,  16.]])"
            ]
          },
          "metadata": {
            "tags": []
          },
          "execution_count": 76
        }
      ]
    },
    {
      "cell_type": "code",
      "metadata": {
        "id": "AfA5GWI4RI3s",
        "outputId": "269073cd-7a7d-4460-b370-278f180cd4f8",
        "colab": {
          "base_uri": "https://localhost:8080/",
          "height": 34
        }
      },
      "source": [
        "# Find the mean, min, max, standard deviation, variance of the latest array using np.mean()\n",
        "np.mean(j),np.min(j),np.max(j),np.std(j),np.var(j)\n"
      ],
      "execution_count": null,
      "outputs": [
        {
          "output_type": "execute_result",
          "data": {
            "text/plain": [
              "(9.8, 2.0, 22.0, 6.035450825470013, 36.42666666666666)"
            ]
          },
          "metadata": {
            "tags": []
          },
          "execution_count": 80
        }
      ]
    },
    {
      "cell_type": "code",
      "metadata": {
        "id": "cx2a1vTBRI3w"
      },
      "source": [
        "# Create two arrays of random integers between 0 to 10 one of size (3, 3) the other of size (3, 2)\n",
        "a1=np.random.randint(10,size=((3,3)))\n",
        "a2=np.random.randint(10,size=((3,2)))"
      ],
      "execution_count": null,
      "outputs": []
    },
    {
      "cell_type": "code",
      "metadata": {
        "id": "f5AewMieRI3z",
        "outputId": "75a7c705-4612-4578-94af-7df1a0436fb5",
        "colab": {
          "base_uri": "https://localhost:8080/",
          "height": 68
        }
      },
      "source": [
        "# Perform a dot product on the two newest arrays you created\n",
        "np.hstack([a1,a2])"
      ],
      "execution_count": null,
      "outputs": [
        {
          "output_type": "execute_result",
          "data": {
            "text/plain": [
              "array([[5, 1, 9, 7, 4],\n",
              "       [1, 9, 3, 1, 4],\n",
              "       [7, 6, 8, 7, 9]])"
            ]
          },
          "metadata": {
            "tags": []
          },
          "execution_count": 83
        }
      ]
    },
    {
      "cell_type": "code",
      "metadata": {
        "id": "6Xyu3xgjRI33"
      },
      "source": [
        "# Create two arrays of random integers between 0 to 10 both of size (4, 3)\n",
        "m=np.random.randint(10,size=((4,3)))\n",
        "n=np.random.randint(10,size=((4,3)))"
      ],
      "execution_count": null,
      "outputs": []
    },
    {
      "cell_type": "code",
      "metadata": {
        "id": "8OE3tN1QRI37",
        "outputId": "fba9be51-8612-437d-8585-cb31892b3a53",
        "colab": {
          "base_uri": "https://localhost:8080/",
          "height": 85
        }
      },
      "source": [
        "# Perform a hadamard product on the two newest arrays you created\n",
        "m*n"
      ],
      "execution_count": null,
      "outputs": [
        {
          "output_type": "execute_result",
          "data": {
            "text/plain": [
              "array([[24,  0,  4],\n",
              "       [ 8, 32, 63],\n",
              "       [ 0, 36,  4],\n",
              "       [ 0, 21,  4]])"
            ]
          },
          "metadata": {
            "tags": []
          },
          "execution_count": 130
        }
      ]
    },
    {
      "cell_type": "code",
      "metadata": {
        "id": "yhmoBaD-RI3_",
        "outputId": "47871fa8-0b2e-4f24-e3f2-2e3c98fa8528",
        "colab": {
          "base_uri": "https://localhost:8080/",
          "height": 68
        }
      },
      "source": [
        "# Perform a dot product on the two newest arrays you created # Error anticipated\n",
        "np.dot(a1,a2)"
      ],
      "execution_count": null,
      "outputs": [
        {
          "output_type": "execute_result",
          "data": {
            "text/plain": [
              "array([[ 99, 105],\n",
              "       [ 37,  67],\n",
              "       [111, 124]])"
            ]
          },
          "metadata": {
            "tags": []
          },
          "execution_count": 131
        }
      ]
    },
    {
      "cell_type": "code",
      "metadata": {
        "id": "aovooyObRI4G",
        "outputId": "fc728b6b-382c-46f3-9b15-21a7b99b3ef1",
        "colab": {
          "base_uri": "https://localhost:8080/",
          "height": 68
        }
      },
      "source": [
        "# Take the latest two arrays, perform a transpose on one of them and then perform a dot product on them both\n",
        "a1.T\n",
        "a2.T\n",
        "np.dot(a1,a2)"
      ],
      "execution_count": null,
      "outputs": [
        {
          "output_type": "execute_result",
          "data": {
            "text/plain": [
              "array([[ 99, 105],\n",
              "       [ 37,  67],\n",
              "       [111, 124]])"
            ]
          },
          "metadata": {
            "tags": []
          },
          "execution_count": 132
        }
      ]
    },
    {
      "cell_type": "code",
      "metadata": {
        "id": "NlC8PvPGRI4J",
        "outputId": "cbdc2d00-f65b-439a-f0d0-b4ff54a48c79",
        "colab": {
          "base_uri": "https://localhost:8080/",
          "height": 68
        }
      },
      "source": [
        "# Create two arrays of random integers between 0 & 10 of the same shape and save them to variables\n",
        "x=np.random.randint(10,size=((3,3)))\n",
        "y=np.random.randint(10,size=((3,3)))\n",
        "print(x)"
      ],
      "execution_count": null,
      "outputs": [
        {
          "output_type": "stream",
          "text": [
            "[[0 7 2]\n",
            " [6 1 1]\n",
            " [6 5 2]]\n"
          ],
          "name": "stdout"
        }
      ]
    },
    {
      "cell_type": "code",
      "metadata": {
        "id": "RF5MSuyHRI4P",
        "outputId": "c56f23ba-e2d9-41f1-e802-b88dfa66e6f7",
        "colab": {
          "base_uri": "https://localhost:8080/",
          "height": 136
        }
      },
      "source": [
        "# Compare the two arrays with '>', '<=' and '==' \n",
        "x>y,x<=y,x==y"
      ],
      "execution_count": null,
      "outputs": [
        {
          "output_type": "execute_result",
          "data": {
            "text/plain": [
              "(array([[False, False, False],\n",
              "        [False, False, False],\n",
              "        [ True,  True, False]]), array([[ True,  True,  True],\n",
              "        [ True,  True,  True],\n",
              "        [False, False,  True]]), array([[False, False, False],\n",
              "        [False, False, False],\n",
              "        [False, False, False]]))"
            ]
          },
          "metadata": {
            "tags": []
          },
          "execution_count": 140
        }
      ]
    },
    {
      "cell_type": "code",
      "metadata": {
        "id": "YOagEuC1RI4T"
      },
      "source": [
        "# Sort one of the arrays you just created in ascending order\n"
      ],
      "execution_count": null,
      "outputs": []
    },
    {
      "cell_type": "code",
      "metadata": {
        "id": "LYJqXp5XRI4W",
        "outputId": "acc033ae-6232-4103-a7e0-16d29b62cc49",
        "colab": {
          "base_uri": "https://localhost:8080/",
          "height": 34
        }
      },
      "source": [
        "# Sort the indexes of one of the arrays you just created\n",
        "np.argmax(x)"
      ],
      "execution_count": null,
      "outputs": [
        {
          "output_type": "execute_result",
          "data": {
            "text/plain": [
              "1"
            ]
          },
          "metadata": {
            "tags": []
          },
          "execution_count": 149
        }
      ]
    },
    {
      "cell_type": "code",
      "metadata": {
        "id": "WIJSMfqJRI4Z",
        "outputId": "401d2c44-fafa-4d42-dbac-e73ef67a2e56",
        "colab": {
          "base_uri": "https://localhost:8080/",
          "height": 34
        }
      },
      "source": [
        "# Find the index with the maximum value in one of the arrays you've created\n",
        "np.argmax(x,axis=0)"
      ],
      "execution_count": null,
      "outputs": [
        {
          "output_type": "execute_result",
          "data": {
            "text/plain": [
              "array([1, 0, 0])"
            ]
          },
          "metadata": {
            "tags": []
          },
          "execution_count": 148
        }
      ]
    },
    {
      "cell_type": "code",
      "metadata": {
        "id": "8Edxo3NURI4c",
        "outputId": "c42e7cff-d90a-43a7-9edc-ff1968134603",
        "colab": {
          "base_uri": "https://localhost:8080/",
          "height": 102
        }
      },
      "source": [
        "# Create an array with 10 evenly spaced numbers between 1 and 100\n",
        "random_array=np.random.randint(10,size=(1,100))\n",
        "random_array"
      ],
      "execution_count": null,
      "outputs": [
        {
          "output_type": "execute_result",
          "data": {
            "text/plain": [
              "array([[0, 3, 3, 4, 6, 6, 3, 6, 2, 5, 1, 9, 8, 4, 5, 3, 9, 6, 8, 6, 0, 0,\n",
              "        8, 8, 3, 8, 2, 6, 5, 7, 8, 4, 0, 2, 9, 7, 5, 7, 8, 3, 0, 0, 9, 3,\n",
              "        6, 1, 2, 0, 4, 0, 7, 0, 0, 1, 1, 5, 6, 4, 0, 0, 2, 1, 4, 9, 5, 6,\n",
              "        3, 6, 7, 0, 5, 7, 4, 3, 1, 5, 5, 0, 8, 5, 2, 3, 3, 2, 9, 2, 2, 3,\n",
              "        6, 3, 8, 0, 7, 6, 1, 7, 0, 8, 8, 1]])"
            ]
          },
          "metadata": {
            "tags": []
          },
          "execution_count": 106
        }
      ]
    },
    {
      "cell_type": "code",
      "metadata": {
        "id": "3jnHmAnQRI4f",
        "outputId": "38e80e1c-9fcf-4d57-9ed7-77532791117d",
        "colab": {
          "base_uri": "https://localhost:8080/",
          "height": 34
        }
      },
      "source": [
        "# Find the indexes with the maximum values down the verticial axis of one of the arrays you created\n",
        "np.argmax(random_array)"
      ],
      "execution_count": null,
      "outputs": [
        {
          "output_type": "execute_result",
          "data": {
            "text/plain": [
              "11"
            ]
          },
          "metadata": {
            "tags": []
          },
          "execution_count": 107
        }
      ]
    },
    {
      "cell_type": "code",
      "metadata": {
        "id": "PoCJQkw6RI4i",
        "outputId": "c1074aee-166d-4fcb-89e4-ca93b46f2a02",
        "colab": {
          "base_uri": "https://localhost:8080/",
          "height": 34
        }
      },
      "source": [
        "# Find the indexes with the minimum values across the horizontal axis of one of the arrays you created\n",
        "np.argmin(random_array)"
      ],
      "execution_count": null,
      "outputs": [
        {
          "output_type": "execute_result",
          "data": {
            "text/plain": [
              "0"
            ]
          },
          "metadata": {
            "tags": []
          },
          "execution_count": 108
        }
      ]
    }
  ]
}